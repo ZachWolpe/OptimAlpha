{
 "metadata": {
  "language_info": {
   "codemirror_mode": {
    "name": "ipython",
    "version": 3
   },
   "file_extension": ".py",
   "mimetype": "text/x-python",
   "name": "python",
   "nbconvert_exporter": "python",
   "pygments_lexer": "ipython3",
   "version": "3.7.7-final"
  },
  "orig_nbformat": 2,
  "kernelspec": {
   "name": "python3",
   "display_name": "Python 3.7.7 64-bit",
   "metadata": {
    "interpreter": {
     "hash": "67870e94f7756ae5f66149a4b105d1b113d3565008894e6f7011157f15bfc523"
    }
   }
  }
 },
 "nbformat": 4,
 "nbformat_minor": 2,
 "cells": [
  {
   "source": [
    "# Yahoo Finance API\n",
    "\n",
    "Interact with the API, download the data."
   ],
   "cell_type": "markdown",
   "metadata": {}
  },
  {
   "cell_type": "code",
   "execution_count": 2,
   "metadata": {},
   "outputs": [],
   "source": [
    "from pandas_datareader import data\n",
    "import matplotlib.pyplot as plt\n",
    "import pandas as pd\n",
    "import numpy as np\n",
    "plt.style.use('default')\n",
    "from datetime import date"
   ]
  },
  {
   "cell_type": "code",
   "execution_count": 3,
   "metadata": {},
   "outputs": [
    {
     "output_type": "stream",
     "name": "stdout",
     "text": [
      "ETF tickers:\n---------------------------------\n1021 tickers available\n\n['GFI', 'INL', 'AVI', 'CAC']...\n---------------------------------\n"
     ]
    }
   ],
   "source": [
    "# ---- ETFs ----x\n",
    "available_EFTs = pd.read_excel('../repo/data/EFTs_from_JSE.xlsx')\n",
    "tickers        = available_EFTs.Alpha.to_list()\n",
    "\n",
    "\n",
    "print('ETF tickers:')\n",
    "print('---------------------------------')\n",
    "print(len(tickers), 'tickers available')\n",
    "print()\n",
    "print(str(tickers[1:5]) + '...')\n",
    "print('---------------------------------')"
   ]
  },
  {
   "cell_type": "code",
   "execution_count": 4,
   "metadata": {},
   "outputs": [
    {
     "output_type": "stream",
     "name": "stdout",
     "text": [
      "Date Range:\n-----------------------\nStart date:  2000-01-01\nEnd date:    2021-03-28\n-----------------------\n"
     ]
    }
   ],
   "source": [
    "# ---- hyperparamters ----x\n",
    "start  = '2000-01-01'\n",
    "end    =  str(date.today())\n",
    "print('Date Range:')\n",
    "print('-----------------------')\n",
    "print('Start date: ', start)\n",
    "print('End date:   ', end)\n",
    "print('-----------------------')"
   ]
  },
  {
   "cell_type": "code",
   "execution_count": 5,
   "metadata": {},
   "outputs": [
    {
     "output_type": "stream",
     "name": "stdout",
     "text": [
      "ETF tickers:\n---------------------------------\n718 tickers available\n\n['DCCUS2', '4SI', 'ABSP', 'APF']...\n---------------------------------\n"
     ]
    }
   ],
   "source": [
    "# ---- easy equityies instruments ----x\n",
    "easy_equities = pd.read_excel('../repo/data/EasyEquitiesInstruments.xlsx')\n",
    "tickers        = easy_equities.Ticker.to_list()\n",
    "\n",
    "print('ETF tickers:')\n",
    "print('---------------------------------')\n",
    "print(len(tickers), 'tickers available')\n",
    "print()\n",
    "print(str(tickers[1:5]) + '...')\n",
    "print('---------------------------------')"
   ]
  },
  {
   "cell_type": "code",
   "execution_count": 60,
   "metadata": {},
   "outputs": [
    {
     "output_type": "stream",
     "name": "stderr",
     "text": [
      "/Users/zachwolpe/opt/anaconda3/envs/OptimAlpha/lib/python3.7/site-packages/pandas_datareader/base.py:272: SymbolWarning: Failed to read symbol: 'AMB257.JO', replacing with NaN.\n",
      "  warnings.warn(msg.format(sym), SymbolWarning)\n",
      "/Users/zachwolpe/opt/anaconda3/envs/OptimAlpha/lib/python3.7/site-packages/pandas_datareader/base.py:272: SymbolWarning: Failed to read symbol: 'ASN414.JO', replacing with NaN.\n",
      "  warnings.warn(msg.format(sym), SymbolWarning)\n",
      "/Users/zachwolpe/opt/anaconda3/envs/OptimAlpha/lib/python3.7/site-packages/pandas_datareader/base.py:272: SymbolWarning: Failed to read symbol: 'LPESP1.JO', replacing with NaN.\n",
      "  warnings.warn(msg.format(sym), SymbolWarning)\n"
     ]
    }
   ],
   "source": [
    "# --- random sample ----x\n",
    "# sample = np.random.choice(tickers, 5, replace=False)\n",
    "# sample = [s + '.JO' for s in sample.tolist()]\n",
    "\n",
    "\n",
    "tics = [t + '.JO' for t in tickers]\n",
    "\n",
    "p = data.DataReader(tics, 'yahoo', start, end)\n",
    "res = p.stack().reset_index()\n",
    "res.columns.names=[None]\n",
    "res.index.names = ['ID']"
   ]
  },
  {
   "source": [
    "tics = [t + '.JO' for t in tickers]\n",
    "p    = data.DataReader(tics, 'yahoo', start, end)\n",
    "res  = p.stack().reset_index()\n",
    "res.columns.names=[None]\n",
    "res.index.names = ['ID']\n",
    "res.Symbols.unique()"
   ],
   "cell_type": "markdown",
   "metadata": {
    "tags": [
     "outputPrepend"
    ]
   }
  },
  {
   "cell_type": "code",
   "execution_count": 6,
   "metadata": {},
   "outputs": [],
   "source": [
    "import pickle\n",
    "path = '../repo/data/ETF_data.pkl'\n",
    "res.to_pickle(path)"
   ]
  }
 ]
}